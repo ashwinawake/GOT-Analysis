{
 "cells": [
  {
   "cell_type": "code",
   "execution_count": 355,
   "metadata": {
    "collapsed": false
   },
   "outputs": [
    {
     "name": "stdout",
     "output_type": "stream",
     "text": [
      "                                  Name      Allegiances  Death Year  \\\n",
      "0                       Addam Marbrand        Lannister         NaN   \n",
      "1              Aegon Frey (Jinglebell)             None       299.0   \n",
      "2                      Aegon Targaryen  House Targaryen         NaN   \n",
      "3                        Adrack Humble    House Greyjoy       300.0   \n",
      "4                       Aemon Costayne        Lannister         NaN   \n",
      "5                      Aemon Estermont        Baratheon         NaN   \n",
      "6    Aemon Targaryen (son of Maekar I)    Night's Watch       300.0   \n",
      "7                           Aenys Frey             None       300.0   \n",
      "8                        Aeron Greyjoy    House Greyjoy         NaN   \n",
      "9                               Aethan    Night's Watch         NaN   \n",
      "10                               Aggar    House Greyjoy       299.0   \n",
      "11                                Aggo  House Targaryen         NaN   \n",
      "12                       Alan of Rosby    Night's Watch       300.0   \n",
      "13                             Alayaya             None         NaN   \n",
      "14                         Albar Royce            Arryn         NaN   \n",
      "15                              Albett    Night's Watch         NaN   \n",
      "16                            Alebelly      House Stark       299.0   \n",
      "17                    Alerie Hightower     House Tyrell         NaN   \n",
      "18                  Alesander Staedmon        Baratheon         NaN   \n",
      "19                     Alester Florent        Baratheon       300.0   \n",
      "20                     Alia of Braavos             None         NaN   \n",
      "21                         Alla Tyrell     House Tyrell         NaN   \n",
      "22                     Allard Seaworth        Baratheon       299.0   \n",
      "23                      Alliser Thorne    Night's Watch         NaN   \n",
      "24                                Alyn      House Stark       298.0   \n",
      "25                        Alyn Ambrose           Tyrell         NaN   \n",
      "26                      Alyn Estermont        Baratheon         NaN   \n",
      "27                     Alyn Stackspear        Lannister         NaN   \n",
      "28                       Alys Karstark            Stark         NaN   \n",
      "29                     Alysane Mormont            Stark         NaN   \n",
      "..                                 ...              ...         ...   \n",
      "887                             Willit        Lannister         NaN   \n",
      "888                   Willow Witch-eye         Wildling       300.0   \n",
      "889                             Willum            Tully         NaN   \n",
      "890                               Woth    Night's Watch       299.0   \n",
      "891                              Wulfe    House Greyjoy         NaN   \n",
      "892                Wun Weg Wun Dar Wun         Wildling         NaN   \n",
      "893                        Wyl (guard)      House Stark       298.0   \n",
      "894                   Wyl the Whittler             None       299.0   \n",
      "895                     Wylis Manderly            Stark         NaN   \n",
      "896                     Wylla Manderly            Stark         NaN   \n",
      "897                     Wyman Manderly            Stark         NaN   \n",
      "898                  Wynafryd Manderly            Stark         NaN   \n",
      "899                       Wynton Stout    Night's Watch         NaN   \n",
      "900                   Xaro Xhoan Daxos             None         NaN   \n",
      "901                             Xhondo             None         NaN   \n",
      "902                             Yandry  House Targaryen         NaN   \n",
      "903                        Yellow Dick             None       300.0   \n",
      "904                       Ygon Farwynd          Greyjoy         NaN   \n",
      "905                            Ygritte         Wildling       299.0   \n",
      "906                       Yohn Farwynd          Greyjoy         NaN   \n",
      "907                         Yohn Royce            Arryn         NaN   \n",
      "908                              Yoren    Night's Watch       299.0   \n",
      "909                        Young Henly    Night's Watch       299.0   \n",
      "910                             Ysilla  House Targaryen         NaN   \n",
      "911                                Zei            Stark         NaN   \n",
      "912                              Zollo             None         NaN   \n",
      "913                  Yurkhaz zo Yunzak             None       300.0   \n",
      "914                   Yezzan Zo Qaggaz             None       300.0   \n",
      "915                   Torwynd the Tame         Wildling       300.0   \n",
      "916                      Talbert Serry           Tyrell       300.0   \n",
      "\n",
      "     Book of Death  Death Chapter  Book Intro Chapter  Gender  Nobility  GoT  \\\n",
      "0              NaN            NaN                56.0       1         1    1   \n",
      "1              3.0           51.0                49.0       1         1    0   \n",
      "2              NaN            NaN                 5.0       1         1    0   \n",
      "3              5.0           20.0                20.0       1         1    0   \n",
      "4              NaN            NaN                 NaN       1         1    0   \n",
      "5              NaN            NaN                 NaN       1         1    0   \n",
      "6              4.0           35.0                21.0       1         1    1   \n",
      "7              5.0            NaN                59.0       0         1    1   \n",
      "8              NaN            NaN                11.0       1         1    0   \n",
      "9              NaN            NaN                 0.0       1         0    0   \n",
      "10             2.0           56.0                50.0       1         0    0   \n",
      "11             NaN            NaN                54.0       1         0    1   \n",
      "12             5.0            4.0                18.0       1         1    0   \n",
      "13             NaN            NaN                15.0       0         0    0   \n",
      "14             NaN            NaN                38.0       1         1    1   \n",
      "15             NaN            NaN                26.0       1         0    1   \n",
      "16             2.0           46.0                 4.0       1         0    0   \n",
      "17             NaN            NaN                 6.0       0         1    0   \n",
      "18             NaN            NaN                65.0       1         1    0   \n",
      "19             4.0            NaN                36.0       1         1    0   \n",
      "20             NaN            NaN                28.0       0         0    1   \n",
      "21             NaN            NaN                 6.0       0         1    0   \n",
      "22             2.0           10.0                10.0       1         1    0   \n",
      "23             NaN            NaN                19.0       1         0    1   \n",
      "24             3.0           34.0                12.0       1         0    1   \n",
      "25             NaN            NaN                59.0       1         1    0   \n",
      "26             NaN            NaN                 NaN       1         1    0   \n",
      "27             NaN            NaN                16.0       1         1    0   \n",
      "28             NaN            NaN                44.0       0         1    0   \n",
      "29             NaN            NaN                35.0       0         1    0   \n",
      "..             ...            ...                 ...     ...       ...  ...   \n",
      "887            NaN            NaN                65.0       1         0    0   \n",
      "888            5.0           69.0                37.0       0         0    0   \n",
      "889            NaN            NaN                43.0       1         0    1   \n",
      "890            2.0           14.0                14.0       1         0    0   \n",
      "891            NaN            NaN                29.0       1         0    0   \n",
      "892            NaN            NaN                35.0       1         0    0   \n",
      "893            1.0           35.0                35.0       1         0    1   \n",
      "894            3.0           34.0                34.0       1         0    0   \n",
      "895            NaN            NaN                55.0       1         1    1   \n",
      "896            NaN            NaN                19.0       0         1    0   \n",
      "897            NaN            NaN                16.0       1         1    0   \n",
      "898            NaN            NaN                19.0       1         1    0   \n",
      "899            NaN            NaN                41.0       1         0    0   \n",
      "900            NaN            NaN                12.0       1         1    0   \n",
      "901            NaN            NaN                26.0       1         0    0   \n",
      "902            NaN            NaN                 8.0       1         0    0   \n",
      "903            5.0           46.0                12.0       1         0    0   \n",
      "904            NaN            NaN                19.0       1         1    0   \n",
      "905            3.0           55.0                51.0       0         0    0   \n",
      "906            NaN            NaN                19.0       1         1    0   \n",
      "907            NaN            NaN                29.0       1         1    1   \n",
      "908            2.0           19.0                13.0       1         0    1   \n",
      "909            3.0           55.0                55.0       1         0    0   \n",
      "910            NaN            NaN                 8.0       1         0    0   \n",
      "911            NaN            NaN                64.0       0         0    0   \n",
      "912            NaN            NaN                21.0       1         0    0   \n",
      "913            5.0           59.0                47.0       1         0    0   \n",
      "914            5.0           57.0                25.0       1         1    0   \n",
      "915            5.0           73.0                73.0       1         0    0   \n",
      "916            4.0           29.0                29.0       1         1    0   \n",
      "\n",
      "     CoK  SoS  FfC  DwD  \n",
      "0      1    1    1    0  \n",
      "1      0    1    0    0  \n",
      "2      0    0    0    1  \n",
      "3      0    0    0    1  \n",
      "4      0    1    0    0  \n",
      "5      1    1    0    0  \n",
      "6      0    1    1    0  \n",
      "7      1    1    0    1  \n",
      "8      1    0    1    0  \n",
      "9      0    1    0    0  \n",
      "10     1    0    0    0  \n",
      "11     1    1    0    1  \n",
      "12     1    1    0    1  \n",
      "13     1    0    0    0  \n",
      "14     0    0    1    0  \n",
      "15     0    0    0    0  \n",
      "16     1    0    0    0  \n",
      "17     0    1    1    0  \n",
      "18     1    0    0    0  \n",
      "19     1    1    0    0  \n",
      "20     0    0    0    0  \n",
      "21     0    1    1    0  \n",
      "22     1    0    0    0  \n",
      "23     1    1    0    1  \n",
      "24     0    0    0    0  \n",
      "25     1    0    1    0  \n",
      "26     1    1    0    0  \n",
      "27     0    0    1    0  \n",
      "28     0    0    0    1  \n",
      "29     0    0    0    1  \n",
      "..   ...  ...  ...  ...  \n",
      "887    1    0    0    0  \n",
      "888    0    0    0    1  \n",
      "889    0    0    0    0  \n",
      "890    1    0    0    0  \n",
      "891    0    0    1    1  \n",
      "892    0    0    0    1  \n",
      "893    0    0    0    0  \n",
      "894    0    1    0    0  \n",
      "895    1    0    1    0  \n",
      "896    0    0    0    1  \n",
      "897    1    0    0    1  \n",
      "898    0    0    0    1  \n",
      "899    0    1    0    0  \n",
      "900    1    0    0    1  \n",
      "901    0    0    1    0  \n",
      "902    0    0    0    1  \n",
      "903    0    0    0    1  \n",
      "904    0    0    1    0  \n",
      "905    1    1    0    0  \n",
      "906    0    0    1    0  \n",
      "907    0    0    1    0  \n",
      "908    1    0    0    0  \n",
      "909    0    1    0    0  \n",
      "910    0    0    0    1  \n",
      "911    0    1    0    0  \n",
      "912    0    1    0    0  \n",
      "913    0    0    0    1  \n",
      "914    0    0    0    1  \n",
      "915    0    1    0    0  \n",
      "916    0    0    1    0  \n",
      "\n",
      "[917 rows x 13 columns]\n"
     ]
    }
   ],
   "source": [
    "import pandas as pd\n",
    "import numpy as np\n",
    "import matplotlib.pyplot as plt\n",
    "from collections import Counter\n",
    "%matplotlib inline\n",
    "\n",
    "\n",
    "hero_data1 = pd.read_csv('C:\\\\Users\\\\Ashwin\\\\Desktop\\\\GOT data\\\\character-deaths.csv')\n",
    "print(hero_data1)"
   ]
  },
  {
   "cell_type": "markdown",
   "metadata": {},
   "source": [
    "# Which Year had the highest number of deaths?\n",
    "\n",
    "###### Plotting a basic bar plot shows that the highest number of deaths occured in the year 299.  A total of 156 people died in 299. The year after that , 300, shows a decline in the number of deaths, which is at 100."
   ]
  },
  {
   "cell_type": "code",
   "execution_count": 252,
   "metadata": {
    "collapsed": false
   },
   "outputs": [
    {
     "name": "stdout",
     "output_type": "stream",
     "text": [
      "Year Death Count\n",
      "297.0 3\n",
      "298.0 46\n",
      "299.0 156\n",
      "300.0 100\n"
     ]
    },
    {
     "data": {
      "image/png": "[encoded data removed]",
      "text/plain": [
       "<matplotlib.figure.Figure at 0x2cfa0ec8eb8>"
      ]
     },
     "metadata": {},
     "output_type": "display_data"
    }
   ],
   "source": [
    "\n",
    "hero_data1.hist(column = 'Death Year', figsize= (15,5), alpha = 0.4)  \n",
    "filter_year = hero_data1['Death Year'].dropna()\n",
    "count = Counter(filter_year)\n",
    "\n",
    "print(\"Year Death Count\")\n",
    "for k,v in count.items():\n",
    "    print(k,v)\n"
   ]
  },
  {
   "cell_type": "markdown",
   "metadata": {},
   "source": [
    "# Which House suffered the most number of deaths\n",
    "\n",
    "###### Visually we can see that Houses's Stark and Lannister have the most number of deaths. House Stark at 107 and House Lannister at 102. This is from data collected over the last 5 books. The 3rd house with the most number of deaths is from House GreyJoy standing at 75. One could say that these 3 houses play a big part in the story line. Following House Greyjoy is House Baratheon at 64."
   ]
  },
  {
   "cell_type": "code",
   "execution_count": 390,
   "metadata": {
    "collapsed": false
   },
   "outputs": [
    {
     "name": "stdout",
     "output_type": "stream",
     "text": [
      "                   0\n",
      "House Baratheon   64\n",
      "House Greyjoy     75\n",
      "House Arryn       30\n",
      "House Stark      108\n",
      "House Tyrell      26\n",
      "House Martell     37\n",
      "House Targaryen   36\n",
      "House Tully       30\n",
      "House Lannister  102\n"
     ]
    },
    {
     "data": {
      "image/png": "[encoded data removed]",
      "text/plain": [
       "<matplotlib.figure.Figure at 0x2cfab29ba90>"
      ]
     },
     "metadata": {},
     "output_type": "display_data"
    }
   ],
   "source": [
    " house_count = Counter(hero_data1['Allegiances'])\n",
    "\n",
    "#Summing u all the values into one house. People who belonged to stark have been added to house stark.\n",
    "house_count['House Lannister'] = house_count['Lannister'] + house_count['House Lannister']\n",
    "house_count['House Stark'] = house_count['Stark'] + house_count['House Stark']\n",
    "house_count['House Tyrell'] = house_count['Tyrell'] + house_count['House Tyrell']\n",
    "house_count['House Tully'] = house_count['Tully'] + house_count['House Tully']\n",
    "house_count['House Targaryen'] = house_count['Targaryen'] + house_count['House Targaryen']\n",
    "house_count['House Baratheon'] = house_count['Baratheon'] + house_count['House Baratheon']\n",
    "house_count['House Martell'] = house_count['Martell'] + house_count['House Martell']\n",
    "house_count['House Arryn'] = house_count['Arryn'] + house_count['House Arryn']\n",
    "house_count['House Greyjoy'] = house_count['Greyjoy'] + house_count['House Greyjoy']\n",
    "\n",
    "del(house_count['Greyjoy'], house_count['Arryn'], house_count['Martell'], house_count['Baratheon'], house_count['Targaryen'], house_count['None'], house_count[\"Night's Watch\"], house_count['Wildling'], house_count['Lannister'], house_count['Stark'], house_count['Tyrell'], house_count['Tully'])\n",
    "df = pd.DataFrame.from_dict(house_count, orient = 'index')\n",
    "df.plot(kind = 'barh',color='r', title='House Population', alpha = 0.4, grid=True, legend= False, figsize= (17,7), fontsize= 16)\n",
    "print(df)\n",
    "\n"
   ]
  },
  {
   "cell_type": "markdown",
   "metadata": {},
   "source": [
    "# Which book has the highest number of deaths? \n",
    " \n",
    "###### After analyzing the data for the last 5 books, it looks like the book \"A Storm of Swords\" has the highest number of deaths standing at 97. There may have been a lot of battles going on resulting the death of a lot of characters or maybe the author grew tired of writing about them and decided to end their story. You'll notice that the book \"A Feast for Crows\", which came after \"A Storm of Swords\" has the least number of deaths. The author may have had a change in mood and focussed his attention on another part of the story. \"A Dance with Dragons\" that came out after \"A Feast for Crows\" has a higher number of deaths, more than double that of the previous book. The author could have done this to make the book more interesting to the readers. The sixth book in the series, \"The Winds of WInter\", could have a higher count in deaths."
   ]
  },
  {
   "cell_type": "code",
   "execution_count": 387,
   "metadata": {
    "collapsed": false
   },
   "outputs": [
    {
     "data": {
      "image/png": "[encoded data removed]",
      "text/plain": [
       "<matplotlib.figure.Figure at 0x2cfaace6780>"
      ]
     },
     "metadata": {},
     "output_type": "display_data"
    }
   ],
   "source": [
    "book_data = hero_data1['Book of Death']\n",
    "filter_books = book_data.dropna()\n",
    "count_books = Counter(filter_books)\n",
    "\n",
    "plt.figure(figsize= (15,5))\n",
    "show = plt.bar(range(len(count_books)), count_books.values(), align = 'center', alpha = 0.4)\n",
    "\n",
    "show[0].set_color('brown')\n",
    "show[1].set_color('c')\n",
    "show[2].set_color('grey')\n",
    "show[3].set_color('g')\n",
    "show[4].set_color('gold')\n",
    "Numbers = [49, 73, 87, 27, 61]\n",
    "for i, v in enumerate(Numbers):\n",
    "    plt.text(i, v+1, str(v), color = 'black', fontweight = 'bold')\n",
    "plt.title('Total deaths in each book')\n",
    "plt.xlabel('Books')\n",
    "plt.ylabel('Number of characters dead', horizontalalignment='center')\n",
    "plt.xticks([0, 1, 2, 3, 4], ['A Game of Thrones','A Clash Of Kings','A Storm of Swords','A Feast for Crows','A Dance with Dragons'], rotation = 30)\n",
    "plt.yticks([0, 20, 40, 60, 80, 100, 120])\n",
    "plt.grid()\n",
    "plt.show()\n"
   ]
  },
  {
   "cell_type": "code",
   "execution_count": null,
   "metadata": {
    "collapsed": true
   },
   "outputs": [],
   "source": []
  },
  {
   "cell_type": "markdown",
   "metadata": {},
   "source": [
    "# Analyzing Battles.csv dataset."
   ]
  },
  {
   "cell_type": "code",
   "execution_count": 261,
   "metadata": {
    "collapsed": false
   },
   "outputs": [
    {
     "name": "stdout",
     "output_type": "stream",
     "text": [
      "                                                 name  year  battle_number  \\\n",
      "0                          Battle of the Golden Tooth   298              1   \n",
      "1                         Battle at the Mummer's Ford   298              2   \n",
      "2                                  Battle of Riverrun   298              3   \n",
      "3                            Battle of the Green Fork   298              4   \n",
      "4                       Battle of the Whispering Wood   298              5   \n",
      "5                                 Battle of the Camps   298              6   \n",
      "6                                       Sack of Darry   298              7   \n",
      "7                               Battle of Moat Cailin   299              8   \n",
      "8                            Battle of Deepwood Motte   299              9   \n",
      "9                           Battle of the Stony Shore   299             10   \n",
      "10                         Battle of Torrhen's Square   299             11   \n",
      "11                               Battle of Winterfell   299             12   \n",
      "12                           Sack of Torrhen's Square   299             13   \n",
      "13                                 Sack of Winterfell   299             14   \n",
      "14                                  Battle of Oxcross   299             15   \n",
      "15                               Siege of Storm's End   299             16   \n",
      "16                                Battle of the Fords   299             17   \n",
      "17                                  Sack of Harrenhal   299             18   \n",
      "18                                 Battle of the Crag   299             19   \n",
      "19                           Battle of the Blackwater   299             20   \n",
      "20                                     Siege of Darry   299             21   \n",
      "21                               Battle of Duskendale   299             22   \n",
      "22                       Battle of the Burning Septry   299             23   \n",
      "23                            Battle of the Ruby Ford   299             24   \n",
      "24                              Retaking of Harrenhal   299             25   \n",
      "25                                    The Red Wedding   299             26   \n",
      "26                                   Siege of Seagard   299             27   \n",
      "27                             Battle of Castle Black   300             28   \n",
      "28                                Fall of Moat Cailin   300             29   \n",
      "29                                   Sack of Saltpans   300             30   \n",
      "30                         Retaking of Deepwood Motte   300             31   \n",
      "31                       Battle of the Shield Islands   300             32   \n",
      "32  Invasion of Ryamsport, Vinetown, and Starfish ...   300             33   \n",
      "33                        Second Seige of Storm's End   300             34   \n",
      "34                               Siege of Dragonstone   300             35   \n",
      "35                                  Siege of Riverrun   300             36   \n",
      "36                                 Siege of Raventree   300             37   \n",
      "37                                Siege of Winterfell   300             38   \n",
      "\n",
      "               attacker_king             defender_king  \\\n",
      "0   Joffrey/Tommen Baratheon                Robb Stark   \n",
      "1   Joffrey/Tommen Baratheon                Robb Stark   \n",
      "2   Joffrey/Tommen Baratheon                Robb Stark   \n",
      "3                 Robb Stark  Joffrey/Tommen Baratheon   \n",
      "4                 Robb Stark  Joffrey/Tommen Baratheon   \n",
      "5                 Robb Stark  Joffrey/Tommen Baratheon   \n",
      "6   Joffrey/Tommen Baratheon                Robb Stark   \n",
      "7        Balon/Euron Greyjoy                Robb Stark   \n",
      "8        Balon/Euron Greyjoy                Robb Stark   \n",
      "9        Balon/Euron Greyjoy                Robb Stark   \n",
      "10                Robb Stark       Balon/Euron Greyjoy   \n",
      "11       Balon/Euron Greyjoy                Robb Stark   \n",
      "12       Balon/Euron Greyjoy       Balon/Euron Greyjoy   \n",
      "13  Joffrey/Tommen Baratheon                Robb Stark   \n",
      "14                Robb Stark  Joffrey/Tommen Baratheon   \n",
      "15         Stannis Baratheon           Renly Baratheon   \n",
      "16  Joffrey/Tommen Baratheon                Robb Stark   \n",
      "17                Robb Stark  Joffrey/Tommen Baratheon   \n",
      "18                Robb Stark  Joffrey/Tommen Baratheon   \n",
      "19         Stannis Baratheon  Joffrey/Tommen Baratheon   \n",
      "20                Robb Stark  Joffrey/Tommen Baratheon   \n",
      "21                Robb Stark  Joffrey/Tommen Baratheon   \n",
      "22                       NaN                       NaN   \n",
      "23  Joffrey/Tommen Baratheon                Robb Stark   \n",
      "24  Joffrey/Tommen Baratheon                       NaN   \n",
      "25  Joffrey/Tommen Baratheon                Robb Stark   \n",
      "26                Robb Stark  Joffrey/Tommen Baratheon   \n",
      "27         Stannis Baratheon              Mance Rayder   \n",
      "28  Joffrey/Tommen Baratheon       Balon/Euron Greyjoy   \n",
      "29                       NaN                       NaN   \n",
      "30         Stannis Baratheon       Balon/Euron Greyjoy   \n",
      "31       Balon/Euron Greyjoy  Joffrey/Tommen Baratheon   \n",
      "32       Balon/Euron Greyjoy  Joffrey/Tommen Baratheon   \n",
      "33  Joffrey/Tommen Baratheon         Stannis Baratheon   \n",
      "34  Joffrey/Tommen Baratheon         Stannis Baratheon   \n",
      "35  Joffrey/Tommen Baratheon                Robb Stark   \n",
      "36  Joffrey/Tommen Baratheon                Robb Stark   \n",
      "37         Stannis Baratheon  Joffrey/Tommen Baratheon   \n",
      "\n",
      "                     attacker_1 attacker_2 attacker_3 attacker_4  \\\n",
      "0                     Lannister        NaN        NaN        NaN   \n",
      "1                     Lannister        NaN        NaN        NaN   \n",
      "2                     Lannister        NaN        NaN        NaN   \n",
      "3                         Stark        NaN        NaN        NaN   \n",
      "4                         Stark      Tully        NaN        NaN   \n",
      "5                         Stark      Tully        NaN        NaN   \n",
      "6                     Lannister        NaN        NaN        NaN   \n",
      "7                       Greyjoy        NaN        NaN        NaN   \n",
      "8                       Greyjoy        NaN        NaN        NaN   \n",
      "9                       Greyjoy        NaN        NaN        NaN   \n",
      "10                        Stark        NaN        NaN        NaN   \n",
      "11                      Greyjoy        NaN        NaN        NaN   \n",
      "12                      Greyjoy        NaN        NaN        NaN   \n",
      "13                       Bolton    Greyjoy        NaN        NaN   \n",
      "14                        Stark      Tully        NaN        NaN   \n",
      "15                    Baratheon        NaN        NaN        NaN   \n",
      "16                    Lannister        NaN        NaN        NaN   \n",
      "17                        Stark        NaN        NaN        NaN   \n",
      "18                        Stark        NaN        NaN        NaN   \n",
      "19                    Baratheon        NaN        NaN        NaN   \n",
      "20                        Darry        NaN        NaN        NaN   \n",
      "21                        Stark        NaN        NaN        NaN   \n",
      "22  Brotherhood without Banners        NaN        NaN        NaN   \n",
      "23                    Lannister        NaN        NaN        NaN   \n",
      "24                    Lannister        NaN        NaN        NaN   \n",
      "25                         Frey     Bolton        NaN        NaN   \n",
      "26                         Frey        NaN        NaN        NaN   \n",
      "27                    Free folk     Thenns     Giants        NaN   \n",
      "28                       Bolton        NaN        NaN        NaN   \n",
      "29             Brave Companions        NaN        NaN        NaN   \n",
      "30                    Baratheon   Karstark    Mormont     Glover   \n",
      "31                      Greyjoy        NaN        NaN        NaN   \n",
      "32                      Greyjoy        NaN        NaN        NaN   \n",
      "33                    Baratheon        NaN        NaN        NaN   \n",
      "34                    Baratheon        NaN        NaN        NaN   \n",
      "35                    Lannister       Frey        NaN        NaN   \n",
      "36                      Bracken  Lannister        NaN        NaN   \n",
      "37                    Baratheon   Karstark    Mormont     Glover   \n",
      "\n",
      "          defender_1                        ...                          \\\n",
      "0              Tully                        ...                           \n",
      "1          Baratheon                        ...                           \n",
      "2              Tully                        ...                           \n",
      "3          Lannister                        ...                           \n",
      "4          Lannister                        ...                           \n",
      "5          Lannister                        ...                           \n",
      "6              Darry                        ...                           \n",
      "7              Stark                        ...                           \n",
      "8              Stark                        ...                           \n",
      "9              Stark                        ...                           \n",
      "10           Greyjoy                        ...                           \n",
      "11             Stark                        ...                           \n",
      "12             Stark                        ...                           \n",
      "13             Stark                        ...                           \n",
      "14         Lannister                        ...                           \n",
      "15         Baratheon                        ...                           \n",
      "16             Tully                        ...                           \n",
      "17         Lannister                        ...                           \n",
      "18         Lannister                        ...                           \n",
      "19         Lannister                        ...                           \n",
      "20         Lannister                        ...                           \n",
      "21         Lannister                        ...                           \n",
      "22  Brave Companions                        ...                           \n",
      "23             Stark                        ...                           \n",
      "24  Brave Companions                        ...                           \n",
      "25             Stark                        ...                           \n",
      "26         Mallister                        ...                           \n",
      "27     Night's Watch                        ...                           \n",
      "28           Greyjoy                        ...                           \n",
      "29               NaN                        ...                           \n",
      "30           Greyjoy                        ...                           \n",
      "31            Tyrell                        ...                           \n",
      "32            Tyrell                        ...                           \n",
      "33         Baratheon                        ...                           \n",
      "34         Baratheon                        ...                           \n",
      "35             Tully                        ...                           \n",
      "36         Blackwood                        ...                           \n",
      "37            Bolton                        ...                           \n",
      "\n",
      "   major_death  major_capture  attacker_size defender_size  \\\n",
      "0          1.0            0.0        15000.0        4000.0   \n",
      "1          1.0            0.0            NaN         120.0   \n",
      "2          0.0            1.0        15000.0       10000.0   \n",
      "3          1.0            1.0        18000.0       20000.0   \n",
      "4          1.0            1.0         1875.0        6000.0   \n",
      "5          0.0            0.0         6000.0       12625.0   \n",
      "6          0.0            0.0            NaN           NaN   \n",
      "7          0.0            0.0            NaN           NaN   \n",
      "8          0.0            0.0         1000.0           NaN   \n",
      "9          0.0            0.0          264.0           NaN   \n",
      "10         0.0            0.0          244.0         900.0   \n",
      "11         0.0            1.0           20.0           NaN   \n",
      "12         0.0            1.0            NaN           NaN   \n",
      "13         1.0            0.0          618.0        2000.0   \n",
      "14         1.0            1.0         6000.0       10000.0   \n",
      "15         1.0            0.0         5000.0       20000.0   \n",
      "16         0.0            0.0        20000.0       10000.0   \n",
      "17         1.0            0.0          100.0         100.0   \n",
      "18         0.0            0.0         6000.0           NaN   \n",
      "19         1.0            1.0        21000.0        7250.0   \n",
      "20         0.0            0.0            NaN           NaN   \n",
      "21         1.0            0.0         3000.0           NaN   \n",
      "22         0.0            0.0            NaN           NaN   \n",
      "23         0.0            0.0            NaN        6000.0   \n",
      "24         1.0            0.0            NaN           NaN   \n",
      "25         1.0            1.0         3500.0        3500.0   \n",
      "26         0.0            1.0            NaN           NaN   \n",
      "27         1.0            1.0       100000.0        1240.0   \n",
      "28         0.0            0.0            NaN           NaN   \n",
      "29         0.0            0.0            NaN           NaN   \n",
      "30         0.0            0.0         4500.0         200.0   \n",
      "31         0.0            0.0            NaN           NaN   \n",
      "32         0.0            0.0            NaN           NaN   \n",
      "33         0.0            0.0            NaN         200.0   \n",
      "34         0.0            0.0         2000.0           NaN   \n",
      "35         0.0            0.0         3000.0           NaN   \n",
      "36         0.0            1.0         1500.0           NaN   \n",
      "37         NaN            NaN         5000.0        8000.0   \n",
      "\n",
      "                                   attacker_commander  \\\n",
      "0                                     Jaime Lannister   \n",
      "1                                      Gregor Clegane   \n",
      "2                        Jaime Lannister, Andros Brax   \n",
      "3   Roose Bolton, Wylis Manderly, Medger Cerwyn, H...   \n",
      "4                           Robb Stark, Brynden Tully   \n",
      "5          Robb Stark, Tytos Blackwood, Brynden Tully   \n",
      "6                                      Gregor Clegane   \n",
      "7                                   Victarion Greyjoy   \n",
      "8                                        Asha Greyjoy   \n",
      "9                                       Theon Greyjoy   \n",
      "10                         Rodrik Cassel, Cley Cerwyn   \n",
      "11                                      Theon Greyjoy   \n",
      "12                                    Dagmer Cleftjaw   \n",
      "13                        Ramsay Snow, Theon Greyjoy    \n",
      "14                          Robb Stark, Brynden Tully   \n",
      "15                  Stannis Baratheon, Davos Seaworth   \n",
      "16  Tywin Lannister, Flement Brax, Gregor Clegane,...   \n",
      "17            Roose Bolton, Vargo Hoat, Robett Glover   \n",
      "18      Robb Stark, Smalljon Umber, Black Walder Frey   \n",
      "19  Stannis Baratheon, Imry Florent, Guyard Morrig...   \n",
      "20                                    Helman Tallhart   \n",
      "21                    Robertt Glover, Helman Tallhart   \n",
      "22                                                NaN   \n",
      "23                                     Gregor Clegane   \n",
      "24                                     Gregor Clegane   \n",
      "25           Walder Frey, Roose Bolton, Walder Rivers   \n",
      "26                                        Walder Frey   \n",
      "27  Mance Rayder, Tormund Giantsbane, Harma Dogshe...   \n",
      "28                                      Ramsey Bolton   \n",
      "29                                              Rorge   \n",
      "30                  Stannis Baratheon, Alysane Mormot   \n",
      "31                   Euron Greyjoy, Victarion Greyjoy   \n",
      "32                   Euron Greyjoy, Victarion Greyjoy   \n",
      "33                          Mace Tyrell, Mathis Rowan   \n",
      "34                       Loras Tyrell, Raxter Redwyne   \n",
      "35        Daven Lannister, Ryman Fey, Jaime Lannister   \n",
      "36                     Jonos Bracken, Jaime Lannister   \n",
      "37                                  Stannis Baratheon   \n",
      "\n",
      "                                   defender_commander  summer  \\\n",
      "0                                Clement Piper, Vance     1.0   \n",
      "1                                    Beric Dondarrion     1.0   \n",
      "2                       Edmure Tully, Tytos Blackwood     1.0   \n",
      "3   Tywin Lannister, Gregor Clegane, Kevan Lannist...     1.0   \n",
      "4                                     Jaime Lannister     1.0   \n",
      "5                    Lord Andros Brax, Forley Prester     1.0   \n",
      "6                                         Lyman Darry     1.0   \n",
      "7                                                 NaN     1.0   \n",
      "8                                                 NaN     1.0   \n",
      "9                                                 NaN     1.0   \n",
      "10                                    Dagmer Cleftjaw     1.0   \n",
      "11                                         Bran Stark     1.0   \n",
      "12                                                NaN     1.0   \n",
      "13       Rodrik Cassel, Cley Cerwyn, Leobald Tallhart     1.0   \n",
      "14  Stafford Lannister, Roland Crakehall, Antario ...     1.0   \n",
      "15  Renly Baratheon, Cortnay Penrose, Loras Tyrell...     1.0   \n",
      "16         Edmure Tully, Jason Mallister, Karyl Vance     1.0   \n",
      "17                                        Amory Lorch     1.0   \n",
      "18                                       Rolph Spicer     1.0   \n",
      "19  Tyrion Lannister, Jacelyn Bywater, Sandor Cleg...     1.0   \n",
      "20                                                NaN     1.0   \n",
      "21                      Randyll Tarly, Gregor Clegane     1.0   \n",
      "22                                                NaN     1.0   \n",
      "23                       Roose Bolton, Wylis Manderly     NaN   \n",
      "24                                         Vargo Hoat     1.0   \n",
      "25                                         Robb Stark     1.0   \n",
      "26                                    Jason Mallister     1.0   \n",
      "27  Stannis Baratheon, Jon Snow, Donal Noye, Cotte...     0.0   \n",
      "28                                                NaN     0.0   \n",
      "29                                                NaN     0.0   \n",
      "30                                       Asha Greyjoy     0.0   \n",
      "31                                                NaN     0.0   \n",
      "32                                                NaN     0.0   \n",
      "33                                    Gilbert Farring     0.0   \n",
      "34                                      Rolland Storm     0.0   \n",
      "35                                      Brynden Tully     0.0   \n",
      "36                                    Tytos Blackwood     0.0   \n",
      "37                                       Roose Bolton     0.0   \n",
      "\n",
      "                                location           region  \\\n",
      "0                           Golden Tooth  The Westerlands   \n",
      "1                          Mummer's Ford   The Riverlands   \n",
      "2                               Riverrun   The Riverlands   \n",
      "3                             Green Fork   The Riverlands   \n",
      "4                        Whispering Wood   The Riverlands   \n",
      "5                               Riverrun   The Riverlands   \n",
      "6                                  Darry   The Riverlands   \n",
      "7                            Moat Cailin        The North   \n",
      "8                         Deepwood Motte        The North   \n",
      "9                            Stony Shore        The North   \n",
      "10                      Torrhen's Square        The North   \n",
      "11                            Winterfell        The North   \n",
      "12                      Torrhen's Square        The North   \n",
      "13                            Winterfell        The North   \n",
      "14                               Oxcross  The Westerlands   \n",
      "15                           Storm's End   The Stormlands   \n",
      "16                              Red Fork   The Riverlands   \n",
      "17                             Harrenhal   The Riverlands   \n",
      "18                                  Crag  The Westerlands   \n",
      "19                        King's Landing   The Crownlands   \n",
      "20                                 Darry   The Riverlands   \n",
      "21                            Duskendale   The Crownlands   \n",
      "22                                   NaN   The Riverlands   \n",
      "23                             Ruby Ford   The Riverlands   \n",
      "24                             Harrenhal   The Riverlands   \n",
      "25                             The Twins   The Riverlands   \n",
      "26                               Seagard   The Riverlands   \n",
      "27                          Castle Black  Beyond the Wall   \n",
      "28                           Moat Cailin        The North   \n",
      "29                              Saltpans   The Riverlands   \n",
      "30                        Deepwood Motte        The North   \n",
      "31                        Shield Islands        The Reach   \n",
      "32  Ryamsport, Vinetown, Starfish Harbor        The Reach   \n",
      "33                           Storm's End   The Stormlands   \n",
      "34                           Dragonstone   The Stormlands   \n",
      "35                              Riverrun   The Riverlands   \n",
      "36                             Raventree   The Riverlands   \n",
      "37                            Winterfell        The North   \n",
      "\n",
      "                                                 note  \n",
      "0                                                 NaN  \n",
      "1                                                 NaN  \n",
      "2                                                 NaN  \n",
      "3                                                 NaN  \n",
      "4                                                 NaN  \n",
      "5                                                 NaN  \n",
      "6                                                 NaN  \n",
      "7                                                 NaN  \n",
      "8                                                 NaN  \n",
      "9   Greyjoy's troop number based on the Battle of ...  \n",
      "10  Greyjoy's troop number comes from the 264 esti...  \n",
      "11  It isn't mentioned how many Stark men are left...  \n",
      "12                                                NaN  \n",
      "13  Since House Bolton betrays the Starks for Hous...  \n",
      "14                                                NaN  \n",
      "15                                                NaN  \n",
      "16                                                NaN  \n",
      "17                                                NaN  \n",
      "18                                                NaN  \n",
      "19                                                NaN  \n",
      "20                                                NaN  \n",
      "21                                                NaN  \n",
      "22                                                NaN  \n",
      "23                                                NaN  \n",
      "24                                                NaN  \n",
      "25  This observation refers to the battle against ...  \n",
      "26                                                NaN  \n",
      "27                                                NaN  \n",
      "28                                                NaN  \n",
      "29                                                NaN  \n",
      "30                                                NaN  \n",
      "31                                                NaN  \n",
      "32                                                NaN  \n",
      "33                                                NaN  \n",
      "34                                                NaN  \n",
      "35                                                NaN  \n",
      "36                                                NaN  \n",
      "37                                                NaN  \n",
      "\n",
      "[38 rows x 25 columns]\n"
     ]
    }
   ],
   "source": [
    "battles = pd.read_csv('C:\\\\Users\\\\Ashwin\\\\Desktop\\\\GOT data\\\\battles.csv')\n",
    "print(battles)"
   ]
  },
  {
   "cell_type": "markdown",
   "metadata": {},
   "source": [
    "# Is there a relationship between attacker size and defender size?"
   ]
  },
  {
   "cell_type": "code",
   "execution_count": 275,
   "metadata": {
    "collapsed": false
   },
   "outputs": [
    {
     "name": "stdout",
     "output_type": "stream",
     "text": [
      "    attacker_size  defender_size\n",
      "0         15000.0         4000.0\n",
      "2         15000.0        10000.0\n",
      "3         18000.0        20000.0\n",
      "4          1875.0         6000.0\n",
      "5          6000.0        12625.0\n",
      "10          244.0          900.0\n",
      "13          618.0         2000.0\n",
      "14         6000.0        10000.0\n",
      "15         5000.0        20000.0\n",
      "16        20000.0        10000.0\n",
      "17          100.0          100.0\n",
      "19        21000.0         7250.0\n",
      "25         3500.0         3500.0\n",
      "27       100000.0         1240.0\n",
      "30         4500.0          200.0\n",
      "37         5000.0         8000.0\n"
     ]
    }
   ],
   "source": [
    "attack_defend_df = battles[['attacker_size','defender_size']].dropna()\n",
    "print(attack_defend_df)"
   ]
  },
  {
   "cell_type": "markdown",
   "metadata": {},
   "source": [
    "#### The scatterplot shows that there is an outlier measuring at 100,000. On closer examination of this data point we can see that it comes from the 'Battle of Castle Black'. This is an extreme outlier and should be removed to get a better spread of the data."
   ]
  },
  {
   "cell_type": "code",
   "execution_count": 298,
   "metadata": {
    "collapsed": false
   },
   "outputs": [
    {
     "data": {
      "text/plain": [
       "<matplotlib.text.Text at 0x2cfa12e8f28>"
      ]
     },
     "execution_count": 298,
     "metadata": {},
     "output_type": "execute_result"
    },
    {
     "data": {
      "image/png": "[encoded data removed]",
      "text/plain": [
       "<matplotlib.figure.Figure at 0x2cfa1250a58>"
      ]
     },
     "metadata": {},
     "output_type": "display_data"
    }
   ],
   "source": [
    "plt.figure(figsize = (10,5))\n",
    "plt.scatter(attack_defend_df['attacker_size'], attack_defend_df['defender_size'], color = 'r', marker = \"*\", s = 65)\n",
    "plt.title(\"Attacker size vs Defender size\")\n",
    "plt.ylabel(\"Defender size\")\n",
    "plt.xlabel(\"Attacket size\")"
   ]
  },
  {
   "cell_type": "markdown",
   "metadata": {},
   "source": [
    "### Removing the Outlier"
   ]
  },
  {
   "cell_type": "code",
   "execution_count": 332,
   "metadata": {
    "collapsed": false
   },
   "outputs": [
    {
     "name": "stdout",
     "output_type": "stream",
     "text": [
      "    attacker_size  defender_size\n",
      "0         15000.0         4000.0\n",
      "2         15000.0        10000.0\n",
      "3         18000.0        20000.0\n",
      "4          1875.0         6000.0\n",
      "5          6000.0        12625.0\n",
      "10          244.0          900.0\n",
      "13          618.0         2000.0\n",
      "14         6000.0        10000.0\n",
      "15         5000.0        20000.0\n",
      "16        20000.0        10000.0\n",
      "17          100.0          100.0\n",
      "19        21000.0         7250.0\n",
      "25         3500.0         3500.0\n",
      "30         4500.0          200.0\n",
      "37         5000.0         8000.0\n"
     ]
    }
   ],
   "source": [
    "attack_defend_df = attack_defend_df[attack_defend_df.attacker_size != 100000]\n",
    "print(attack_defend_df)"
   ]
  },
  {
   "cell_type": "markdown",
   "metadata": {},
   "source": [
    "### After plotting the data we see a better spread of the data. There appears to be a positive relationship here, i.e, an increase in the size of the attacking army, the bigger is the size of the defending army. "
   ]
  },
  {
   "cell_type": "code",
   "execution_count": 344,
   "metadata": {
    "collapsed": false
   },
   "outputs": [
    {
     "data": {
      "text/plain": [
       "<matplotlib.text.Text at 0x2cfa26a09b0>"
      ]
     },
     "execution_count": 344,
     "metadata": {},
     "output_type": "execute_result"
    },
    {
     "data": {
      "image/png": "[encoded data removed]",
      "text/plain": [
       "<matplotlib.figure.Figure at 0x2cfa13b2908>"
      ]
     },
     "metadata": {},
     "output_type": "display_data"
    }
   ],
   "source": [
    "plt.figure(figsize = (15,6))\n",
    "plt.scatter(attack_defend_df['attacker_size'], attack_defend_df['defender_size'], color = 'c', s = 65)\n",
    "plt.title(\"Attacker size vs Defender size\")\n",
    "plt.xlabel('Attacker size')\n",
    "plt.ylabel('Defender size')"
   ]
  },
  {
   "cell_type": "markdown",
   "metadata": {},
   "source": [
    "# Sumary Statistics\n",
    "##### After generating the summary statistics, you can see that average of the attacking army(8122.466) is greater than the defending army (7638.33) . The largest attacking army in this dataset is 21,000 and the largest defending army is 20,000. The standard deviations are large for both armies, which means the data is spread. Not all the values lie close to the mean.\n",
    "\n",
    "## Comparing mean and median values of the attacking army.\n",
    "\n",
    "##### The mean(8122.46) is greater than the median(5000), hence we cannot expect the distribution to be normal. More righttly its right skewed. This can be observed in the boxplot titled 'Attacker size'.\n",
    "\n",
    "## Comparing mean and median values of the defending army.\n",
    "\n",
    "##### The mean(7638.33) and median(7250) are alost close to each other. Hence, the distribution of this data will be lightly skewed. This can beobserved in the boxplot titled 'Defender size'."
   ]
  },
  {
   "cell_type": "code",
   "execution_count": 381,
   "metadata": {
    "collapsed": false,
    "scrolled": true
   },
   "outputs": [
    {
     "name": "stdout",
     "output_type": "stream",
     "text": [
      "       attacker_size  defender_size\n",
      "count      15.000000      15.000000\n",
      "mean     8122.466667    7638.333333\n",
      "std      7482.599404    6380.221018\n",
      "min       100.000000     100.000000\n",
      "25%      2687.500000    2750.000000\n",
      "50%      5000.000000    7250.000000\n",
      "75%     15000.000000   10000.000000\n",
      "max     21000.000000   20000.000000\n"
     ]
    },
    {
     "data": {
      "text/plain": [
       "<matplotlib.text.Text at 0x2cfaa4cfc18>"
      ]
     },
     "execution_count": 381,
     "metadata": {},
     "output_type": "execute_result"
    },
    {
     "data": {
      "image/png": "[encoded data removed]",
      "text/plain": [
       "<matplotlib.figure.Figure at 0x2cfa7ef2080>"
      ]
     },
     "metadata": {},
     "output_type": "display_data"
    }
   ],
   "source": [
    "print(attack_defend_df.describe())\n",
    "\n",
    "fig = plt.figure(figsize = (15, 15))\n",
    "\n",
    "ax1 = fig.add_subplot(2, 2, 1)\n",
    "ax2 = fig.add_subplot(2, 2, 2)\n",
    "\n",
    "ax1.boxplot(attack_defend_df.attacker_size)\n",
    "ax1.set_title(\"Attacker size\")\n",
    "ax1.set_ylabel(\"Army size\")\n",
    "\n",
    "ax2.boxplot(attack_defend_df.defender_size)\n",
    "ax2.set_title(\"Defender_size\")\n",
    "ax2.set_ylabel(\"Army size\")"
   ]
  },
  {
   "cell_type": "markdown",
   "metadata": {},
   "source": [
    "##### The covariance(2.0945) is positive which in this case means the larger the attacking army, the defending army also increases in size. I guess the author would do this to make the book more interesting to readers. "
   ]
  },
  {
   "cell_type": "code",
   "execution_count": 337,
   "metadata": {
    "collapsed": false
   },
   "outputs": [
    {
     "name": "stdout",
     "output_type": "stream",
     "text": [
      "               attacker_size  defender_size\n",
      "attacker_size   5.598929e+07   2.094528e+07\n",
      "defender_size   2.094528e+07   4.070722e+07\n"
     ]
    }
   ],
   "source": [
    "print(attack_defend_df.cov())"
   ]
  },
  {
   "cell_type": "markdown",
   "metadata": {},
   "source": [
    "##### The correlation(0.438731) is also positive which shows there is some kind of a relationship but not a very strong one. The correlation value has to lean towards 1 to exhibit a stronger relationship. The author does carefully balance out the proportion of men in both sides of the army. He may do it to lead the readers into beliving that the underdongs have a fighting chance. Overcoming all obstables and emerging victorious. "
   ]
  },
  {
   "cell_type": "code",
   "execution_count": 338,
   "metadata": {
    "collapsed": false
   },
   "outputs": [
    {
     "name": "stdout",
     "output_type": "stream",
     "text": [
      "               attacker_size  defender_size\n",
      "attacker_size       1.000000       0.438731\n",
      "defender_size       0.438731       1.000000\n"
     ]
    }
   ],
   "source": [
    "print(attack_defend_df.corr())"
   ]
  }
 ],
 "metadata": {
  "kernelspec": {
   "display_name": "Python 3",
   "language": "python",
   "name": "python3"
  },
  "language_info": {
   "codemirror_mode": {
    "name": "ipython",
    "version": 3
   },
   "file_extension": ".py",
   "mimetype": "text/x-python",
   "name": "python",
   "nbconvert_exporter": "python",
   "pygments_lexer": "ipython3",
   "version": "3.5.2"
  }
 },
 "nbformat": 4,
 "nbformat_minor": 0
}
